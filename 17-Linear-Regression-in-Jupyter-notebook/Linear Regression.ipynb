{
 "cells": [
  {
   "cell_type": "code",
   "execution_count": 47,
   "metadata": {},
   "outputs": [],
   "source": [
    "import pandas as pd\n",
    "import numpy as np\n",
    "import statistics as stat\n",
    "from sklearn.model_selection import train_test_split\n",
    "import statsmodels.api as sm"
   ]
  },
  {
   "cell_type": "code",
   "execution_count": 2,
   "metadata": {},
   "outputs": [],
   "source": [
    "insurance_data = pd.read_csv(\"D:/Python Materials/insurance.csv\")"
   ]
  },
  {
   "cell_type": "code",
   "execution_count": 3,
   "metadata": {},
   "outputs": [
    {
     "data": {
      "text/html": [
       "<div>\n",
       "<style scoped>\n",
       "    .dataframe tbody tr th:only-of-type {\n",
       "        vertical-align: middle;\n",
       "    }\n",
       "\n",
       "    .dataframe tbody tr th {\n",
       "        vertical-align: top;\n",
       "    }\n",
       "\n",
       "    .dataframe thead th {\n",
       "        text-align: right;\n",
       "    }\n",
       "</style>\n",
       "<table border=\"1\" class=\"dataframe\">\n",
       "  <thead>\n",
       "    <tr style=\"text-align: right;\">\n",
       "      <th></th>\n",
       "      <th>age</th>\n",
       "      <th>gender</th>\n",
       "      <th>bmi</th>\n",
       "      <th>children</th>\n",
       "      <th>smoker</th>\n",
       "      <th>region</th>\n",
       "      <th>Premium</th>\n",
       "    </tr>\n",
       "  </thead>\n",
       "  <tbody>\n",
       "    <tr>\n",
       "      <td>0</td>\n",
       "      <td>19.0</td>\n",
       "      <td>female</td>\n",
       "      <td>27.900</td>\n",
       "      <td>0</td>\n",
       "      <td>yes</td>\n",
       "      <td>southwest</td>\n",
       "      <td>16884.92400</td>\n",
       "    </tr>\n",
       "    <tr>\n",
       "      <td>1</td>\n",
       "      <td>18.0</td>\n",
       "      <td>male</td>\n",
       "      <td>33.770</td>\n",
       "      <td>1</td>\n",
       "      <td>no</td>\n",
       "      <td>southeast</td>\n",
       "      <td>1725.55230</td>\n",
       "    </tr>\n",
       "    <tr>\n",
       "      <td>2</td>\n",
       "      <td>28.0</td>\n",
       "      <td>male</td>\n",
       "      <td>33.000</td>\n",
       "      <td>3</td>\n",
       "      <td>no</td>\n",
       "      <td>southeast</td>\n",
       "      <td>4449.46200</td>\n",
       "    </tr>\n",
       "    <tr>\n",
       "      <td>3</td>\n",
       "      <td>33.0</td>\n",
       "      <td>male</td>\n",
       "      <td>22.705</td>\n",
       "      <td>0</td>\n",
       "      <td>no</td>\n",
       "      <td>northwest</td>\n",
       "      <td>21984.47061</td>\n",
       "    </tr>\n",
       "    <tr>\n",
       "      <td>4</td>\n",
       "      <td>32.0</td>\n",
       "      <td>male</td>\n",
       "      <td>28.880</td>\n",
       "      <td>0</td>\n",
       "      <td>no</td>\n",
       "      <td>northwest</td>\n",
       "      <td>3866.85520</td>\n",
       "    </tr>\n",
       "  </tbody>\n",
       "</table>\n",
       "</div>"
      ],
      "text/plain": [
       "    age  gender     bmi  children smoker     region      Premium\n",
       "0  19.0  female  27.900         0    yes  southwest  16884.92400\n",
       "1  18.0    male  33.770         1     no  southeast   1725.55230\n",
       "2  28.0    male  33.000         3     no  southeast   4449.46200\n",
       "3  33.0    male  22.705         0     no  northwest  21984.47061\n",
       "4  32.0    male  28.880         0     no  northwest   3866.85520"
      ]
     },
     "execution_count": 3,
     "metadata": {},
     "output_type": "execute_result"
    }
   ],
   "source": [
    "insurance_data.head()"
   ]
  },
  {
   "cell_type": "code",
   "execution_count": 4,
   "metadata": {},
   "outputs": [
    {
     "data": {
      "text/plain": [
       "(1338, 7)"
      ]
     },
     "execution_count": 4,
     "metadata": {},
     "output_type": "execute_result"
    }
   ],
   "source": [
    "insurance_data.shape"
   ]
  },
  {
   "cell_type": "code",
   "execution_count": 5,
   "metadata": {},
   "outputs": [
    {
     "data": {
      "text/plain": [
       "age         12\n",
       "gender       0\n",
       "bmi         10\n",
       "children     0\n",
       "smoker       0\n",
       "region       2\n",
       "Premium      5\n",
       "dtype: int64"
      ]
     },
     "execution_count": 5,
     "metadata": {},
     "output_type": "execute_result"
    }
   ],
   "source": [
    "insurance_data.isnull().sum() # This is a number of null values by column names "
   ]
  },
  {
   "cell_type": "code",
   "execution_count": 6,
   "metadata": {},
   "outputs": [
    {
     "data": {
      "text/html": [
       "<div>\n",
       "<style scoped>\n",
       "    .dataframe tbody tr th:only-of-type {\n",
       "        vertical-align: middle;\n",
       "    }\n",
       "\n",
       "    .dataframe tbody tr th {\n",
       "        vertical-align: top;\n",
       "    }\n",
       "\n",
       "    .dataframe thead th {\n",
       "        text-align: right;\n",
       "    }\n",
       "</style>\n",
       "<table border=\"1\" class=\"dataframe\">\n",
       "  <thead>\n",
       "    <tr style=\"text-align: right;\">\n",
       "      <th></th>\n",
       "      <th>age</th>\n",
       "      <th>gender</th>\n",
       "      <th>bmi</th>\n",
       "      <th>children</th>\n",
       "      <th>smoker</th>\n",
       "      <th>region</th>\n",
       "      <th>Premium</th>\n",
       "    </tr>\n",
       "  </thead>\n",
       "  <tbody>\n",
       "    <tr>\n",
       "      <td>7</td>\n",
       "      <td>37.0</td>\n",
       "      <td>female</td>\n",
       "      <td>NaN</td>\n",
       "      <td>3</td>\n",
       "      <td>occasionally</td>\n",
       "      <td>northwest</td>\n",
       "      <td>7281.50560</td>\n",
       "    </tr>\n",
       "    <tr>\n",
       "      <td>8</td>\n",
       "      <td>37.0</td>\n",
       "      <td>male</td>\n",
       "      <td>NaN</td>\n",
       "      <td>2</td>\n",
       "      <td>occasionally</td>\n",
       "      <td>northeast</td>\n",
       "      <td>6406.41070</td>\n",
       "    </tr>\n",
       "    <tr>\n",
       "      <td>9</td>\n",
       "      <td>60.0</td>\n",
       "      <td>female</td>\n",
       "      <td>NaN</td>\n",
       "      <td>0</td>\n",
       "      <td>occasionally</td>\n",
       "      <td>northwest</td>\n",
       "      <td>28923.13692</td>\n",
       "    </tr>\n",
       "    <tr>\n",
       "      <td>13</td>\n",
       "      <td>NaN</td>\n",
       "      <td>female</td>\n",
       "      <td>39.820</td>\n",
       "      <td>0</td>\n",
       "      <td>occasionally</td>\n",
       "      <td>southeast</td>\n",
       "      <td>11090.71780</td>\n",
       "    </tr>\n",
       "    <tr>\n",
       "      <td>14</td>\n",
       "      <td>NaN</td>\n",
       "      <td>male</td>\n",
       "      <td>42.130</td>\n",
       "      <td>0</td>\n",
       "      <td>occasionally</td>\n",
       "      <td>southeast</td>\n",
       "      <td>39611.75770</td>\n",
       "    </tr>\n",
       "    <tr>\n",
       "      <td>15</td>\n",
       "      <td>NaN</td>\n",
       "      <td>male</td>\n",
       "      <td>24.600</td>\n",
       "      <td>1</td>\n",
       "      <td>occasionally</td>\n",
       "      <td>southwest</td>\n",
       "      <td>1837.23700</td>\n",
       "    </tr>\n",
       "    <tr>\n",
       "      <td>16</td>\n",
       "      <td>NaN</td>\n",
       "      <td>female</td>\n",
       "      <td>30.780</td>\n",
       "      <td>1</td>\n",
       "      <td>occasionally</td>\n",
       "      <td>northeast</td>\n",
       "      <td>10797.33620</td>\n",
       "    </tr>\n",
       "    <tr>\n",
       "      <td>17</td>\n",
       "      <td>NaN</td>\n",
       "      <td>male</td>\n",
       "      <td>23.845</td>\n",
       "      <td>0</td>\n",
       "      <td>occasionally</td>\n",
       "      <td>northeast</td>\n",
       "      <td>2395.17155</td>\n",
       "    </tr>\n",
       "    <tr>\n",
       "      <td>18</td>\n",
       "      <td>NaN</td>\n",
       "      <td>male</td>\n",
       "      <td>40.300</td>\n",
       "      <td>0</td>\n",
       "      <td>occasionally</td>\n",
       "      <td>southwest</td>\n",
       "      <td>10602.38500</td>\n",
       "    </tr>\n",
       "    <tr>\n",
       "      <td>34</td>\n",
       "      <td>28.0</td>\n",
       "      <td>male</td>\n",
       "      <td>NaN</td>\n",
       "      <td>1</td>\n",
       "      <td>occasionally</td>\n",
       "      <td>southwest</td>\n",
       "      <td>51194.55914</td>\n",
       "    </tr>\n",
       "    <tr>\n",
       "      <td>35</td>\n",
       "      <td>19.0</td>\n",
       "      <td>male</td>\n",
       "      <td>NaN</td>\n",
       "      <td>0</td>\n",
       "      <td>occasionally</td>\n",
       "      <td>northwest</td>\n",
       "      <td>1625.43375</td>\n",
       "    </tr>\n",
       "    <tr>\n",
       "      <td>36</td>\n",
       "      <td>62.0</td>\n",
       "      <td>female</td>\n",
       "      <td>NaN</td>\n",
       "      <td>3</td>\n",
       "      <td>occasionally</td>\n",
       "      <td>northwest</td>\n",
       "      <td>15612.19335</td>\n",
       "    </tr>\n",
       "    <tr>\n",
       "      <td>47</td>\n",
       "      <td>NaN</td>\n",
       "      <td>female</td>\n",
       "      <td>34.770</td>\n",
       "      <td>0</td>\n",
       "      <td>occasionally</td>\n",
       "      <td>northwest</td>\n",
       "      <td>3556.92230</td>\n",
       "    </tr>\n",
       "    <tr>\n",
       "      <td>48</td>\n",
       "      <td>NaN</td>\n",
       "      <td>female</td>\n",
       "      <td>24.530</td>\n",
       "      <td>0</td>\n",
       "      <td>occasionally</td>\n",
       "      <td>southeast</td>\n",
       "      <td>12629.89670</td>\n",
       "    </tr>\n",
       "    <tr>\n",
       "      <td>49</td>\n",
       "      <td>NaN</td>\n",
       "      <td>male</td>\n",
       "      <td>35.200</td>\n",
       "      <td>1</td>\n",
       "      <td>occasionally</td>\n",
       "      <td>southeast</td>\n",
       "      <td>38709.17600</td>\n",
       "    </tr>\n",
       "    <tr>\n",
       "      <td>61</td>\n",
       "      <td>25.0</td>\n",
       "      <td>male</td>\n",
       "      <td>NaN</td>\n",
       "      <td>4</td>\n",
       "      <td>occasionally</td>\n",
       "      <td>southeast</td>\n",
       "      <td>4504.66240</td>\n",
       "    </tr>\n",
       "    <tr>\n",
       "      <td>62</td>\n",
       "      <td>64.0</td>\n",
       "      <td>male</td>\n",
       "      <td>NaN</td>\n",
       "      <td>1</td>\n",
       "      <td>occasionally</td>\n",
       "      <td>northwest</td>\n",
       "      <td>30166.61817</td>\n",
       "    </tr>\n",
       "    <tr>\n",
       "      <td>69</td>\n",
       "      <td>NaN</td>\n",
       "      <td>male</td>\n",
       "      <td>23.980</td>\n",
       "      <td>3</td>\n",
       "      <td>occasionally</td>\n",
       "      <td>southeast</td>\n",
       "      <td>17663.14420</td>\n",
       "    </tr>\n",
       "    <tr>\n",
       "      <td>70</td>\n",
       "      <td>NaN</td>\n",
       "      <td>female</td>\n",
       "      <td>24.750</td>\n",
       "      <td>0</td>\n",
       "      <td>occasionally</td>\n",
       "      <td>southeast</td>\n",
       "      <td>16577.77950</td>\n",
       "    </tr>\n",
       "    <tr>\n",
       "      <td>71</td>\n",
       "      <td>NaN</td>\n",
       "      <td>male</td>\n",
       "      <td>28.500</td>\n",
       "      <td>5</td>\n",
       "      <td>occasionally</td>\n",
       "      <td>northeast</td>\n",
       "      <td>6799.45800</td>\n",
       "    </tr>\n",
       "    <tr>\n",
       "      <td>80</td>\n",
       "      <td>31.0</td>\n",
       "      <td>male</td>\n",
       "      <td>26.885</td>\n",
       "      <td>1</td>\n",
       "      <td>occasionally</td>\n",
       "      <td>northeast</td>\n",
       "      <td>NaN</td>\n",
       "    </tr>\n",
       "    <tr>\n",
       "      <td>81</td>\n",
       "      <td>45.0</td>\n",
       "      <td>female</td>\n",
       "      <td>38.285</td>\n",
       "      <td>0</td>\n",
       "      <td>occasionally</td>\n",
       "      <td>northeast</td>\n",
       "      <td>NaN</td>\n",
       "    </tr>\n",
       "    <tr>\n",
       "      <td>82</td>\n",
       "      <td>22.0</td>\n",
       "      <td>male</td>\n",
       "      <td>37.620</td>\n",
       "      <td>1</td>\n",
       "      <td>occasionally</td>\n",
       "      <td>southeast</td>\n",
       "      <td>NaN</td>\n",
       "    </tr>\n",
       "    <tr>\n",
       "      <td>89</td>\n",
       "      <td>55.0</td>\n",
       "      <td>female</td>\n",
       "      <td>26.980</td>\n",
       "      <td>0</td>\n",
       "      <td>occasionally</td>\n",
       "      <td>NaN</td>\n",
       "      <td>11082.57720</td>\n",
       "    </tr>\n",
       "    <tr>\n",
       "      <td>90</td>\n",
       "      <td>21.0</td>\n",
       "      <td>female</td>\n",
       "      <td>39.490</td>\n",
       "      <td>0</td>\n",
       "      <td>occasionally</td>\n",
       "      <td>NaN</td>\n",
       "      <td>2026.97410</td>\n",
       "    </tr>\n",
       "    <tr>\n",
       "      <td>91</td>\n",
       "      <td>53.0</td>\n",
       "      <td>female</td>\n",
       "      <td>NaN</td>\n",
       "      <td>1</td>\n",
       "      <td>occasionally</td>\n",
       "      <td>northwest</td>\n",
       "      <td>10942.13205</td>\n",
       "    </tr>\n",
       "    <tr>\n",
       "      <td>92</td>\n",
       "      <td>59.0</td>\n",
       "      <td>male</td>\n",
       "      <td>NaN</td>\n",
       "      <td>3</td>\n",
       "      <td>occasionally</td>\n",
       "      <td>northeast</td>\n",
       "      <td>30184.93670</td>\n",
       "    </tr>\n",
       "    <tr>\n",
       "      <td>112</td>\n",
       "      <td>37.0</td>\n",
       "      <td>male</td>\n",
       "      <td>30.800</td>\n",
       "      <td>0</td>\n",
       "      <td>occasionally</td>\n",
       "      <td>southwest</td>\n",
       "      <td>NaN</td>\n",
       "    </tr>\n",
       "    <tr>\n",
       "      <td>113</td>\n",
       "      <td>21.0</td>\n",
       "      <td>female</td>\n",
       "      <td>35.720</td>\n",
       "      <td>0</td>\n",
       "      <td>occasionally</td>\n",
       "      <td>northwest</td>\n",
       "      <td>NaN</td>\n",
       "    </tr>\n",
       "  </tbody>\n",
       "</table>\n",
       "</div>"
      ],
      "text/plain": [
       "      age  gender     bmi  children        smoker     region      Premium\n",
       "7    37.0  female     NaN         3  occasionally  northwest   7281.50560\n",
       "8    37.0    male     NaN         2  occasionally  northeast   6406.41070\n",
       "9    60.0  female     NaN         0  occasionally  northwest  28923.13692\n",
       "13    NaN  female  39.820         0  occasionally  southeast  11090.71780\n",
       "14    NaN    male  42.130         0  occasionally  southeast  39611.75770\n",
       "15    NaN    male  24.600         1  occasionally  southwest   1837.23700\n",
       "16    NaN  female  30.780         1  occasionally  northeast  10797.33620\n",
       "17    NaN    male  23.845         0  occasionally  northeast   2395.17155\n",
       "18    NaN    male  40.300         0  occasionally  southwest  10602.38500\n",
       "34   28.0    male     NaN         1  occasionally  southwest  51194.55914\n",
       "35   19.0    male     NaN         0  occasionally  northwest   1625.43375\n",
       "36   62.0  female     NaN         3  occasionally  northwest  15612.19335\n",
       "47    NaN  female  34.770         0  occasionally  northwest   3556.92230\n",
       "48    NaN  female  24.530         0  occasionally  southeast  12629.89670\n",
       "49    NaN    male  35.200         1  occasionally  southeast  38709.17600\n",
       "61   25.0    male     NaN         4  occasionally  southeast   4504.66240\n",
       "62   64.0    male     NaN         1  occasionally  northwest  30166.61817\n",
       "69    NaN    male  23.980         3  occasionally  southeast  17663.14420\n",
       "70    NaN  female  24.750         0  occasionally  southeast  16577.77950\n",
       "71    NaN    male  28.500         5  occasionally  northeast   6799.45800\n",
       "80   31.0    male  26.885         1  occasionally  northeast          NaN\n",
       "81   45.0  female  38.285         0  occasionally  northeast          NaN\n",
       "82   22.0    male  37.620         1  occasionally  southeast          NaN\n",
       "89   55.0  female  26.980         0  occasionally        NaN  11082.57720\n",
       "90   21.0  female  39.490         0  occasionally        NaN   2026.97410\n",
       "91   53.0  female     NaN         1  occasionally  northwest  10942.13205\n",
       "92   59.0    male     NaN         3  occasionally  northeast  30184.93670\n",
       "112  37.0    male  30.800         0  occasionally  southwest          NaN\n",
       "113  21.0  female  35.720         0  occasionally  northwest          NaN"
      ]
     },
     "execution_count": 6,
     "metadata": {},
     "output_type": "execute_result"
    }
   ],
   "source": [
    "insurance_data[insurance_data.isnull().any(axis=1)] # This are the rows with one of more null values"
   ]
  },
  {
   "cell_type": "code",
   "execution_count": 7,
   "metadata": {},
   "outputs": [
    {
     "data": {
      "text/plain": [
       "(39.22775263951735, 30.678795180722876, 'male', 13277.743308221308)"
      ]
     },
     "execution_count": 7,
     "metadata": {},
     "output_type": "execute_result"
    }
   ],
   "source": [
    "mean_age = np.mean(insurance_data['age'])\n",
    "mean_bmi = np.mean(insurance_data['bmi'])\n",
    "mode_gender = stat.mode(insurance_data['gender'])\n",
    "mean_premium = np.mean(insurance_data['Premium'])\n",
    "\n",
    "mean_age, mean_bmi, mode_gender, mean_premium"
   ]
  },
  {
   "cell_type": "code",
   "execution_count": 8,
   "metadata": {},
   "outputs": [],
   "source": [
    "insurance_data = insurance_data.fillna(value={'age': mean_age,\n",
    "                       'bmi': mean_bmi,\n",
    "                       'gender': mode_gender,\n",
    "                        'Premium': mean_premium}) # Filling the missing values with mean and mode"
   ]
  },
  {
   "cell_type": "code",
   "execution_count": 9,
   "metadata": {},
   "outputs": [
    {
     "data": {
      "text/html": [
       "<div>\n",
       "<style scoped>\n",
       "    .dataframe tbody tr th:only-of-type {\n",
       "        vertical-align: middle;\n",
       "    }\n",
       "\n",
       "    .dataframe tbody tr th {\n",
       "        vertical-align: top;\n",
       "    }\n",
       "\n",
       "    .dataframe thead th {\n",
       "        text-align: right;\n",
       "    }\n",
       "</style>\n",
       "<table border=\"1\" class=\"dataframe\">\n",
       "  <thead>\n",
       "    <tr style=\"text-align: right;\">\n",
       "      <th></th>\n",
       "      <th>age</th>\n",
       "      <th>gender</th>\n",
       "      <th>bmi</th>\n",
       "      <th>children</th>\n",
       "      <th>smoker</th>\n",
       "      <th>region</th>\n",
       "      <th>Premium</th>\n",
       "    </tr>\n",
       "  </thead>\n",
       "  <tbody>\n",
       "    <tr>\n",
       "      <td>0</td>\n",
       "      <td>19.0</td>\n",
       "      <td>female</td>\n",
       "      <td>27.900</td>\n",
       "      <td>0</td>\n",
       "      <td>yes</td>\n",
       "      <td>southwest</td>\n",
       "      <td>16884.92400</td>\n",
       "    </tr>\n",
       "    <tr>\n",
       "      <td>1</td>\n",
       "      <td>18.0</td>\n",
       "      <td>male</td>\n",
       "      <td>33.770</td>\n",
       "      <td>1</td>\n",
       "      <td>no</td>\n",
       "      <td>southeast</td>\n",
       "      <td>1725.55230</td>\n",
       "    </tr>\n",
       "    <tr>\n",
       "      <td>2</td>\n",
       "      <td>28.0</td>\n",
       "      <td>male</td>\n",
       "      <td>33.000</td>\n",
       "      <td>3</td>\n",
       "      <td>no</td>\n",
       "      <td>southeast</td>\n",
       "      <td>4449.46200</td>\n",
       "    </tr>\n",
       "    <tr>\n",
       "      <td>3</td>\n",
       "      <td>33.0</td>\n",
       "      <td>male</td>\n",
       "      <td>22.705</td>\n",
       "      <td>0</td>\n",
       "      <td>no</td>\n",
       "      <td>northwest</td>\n",
       "      <td>21984.47061</td>\n",
       "    </tr>\n",
       "    <tr>\n",
       "      <td>4</td>\n",
       "      <td>32.0</td>\n",
       "      <td>male</td>\n",
       "      <td>28.880</td>\n",
       "      <td>0</td>\n",
       "      <td>no</td>\n",
       "      <td>northwest</td>\n",
       "      <td>3866.85520</td>\n",
       "    </tr>\n",
       "    <tr>\n",
       "      <td>...</td>\n",
       "      <td>...</td>\n",
       "      <td>...</td>\n",
       "      <td>...</td>\n",
       "      <td>...</td>\n",
       "      <td>...</td>\n",
       "      <td>...</td>\n",
       "      <td>...</td>\n",
       "    </tr>\n",
       "    <tr>\n",
       "      <td>1333</td>\n",
       "      <td>50.0</td>\n",
       "      <td>male</td>\n",
       "      <td>30.970</td>\n",
       "      <td>3</td>\n",
       "      <td>no</td>\n",
       "      <td>northwest</td>\n",
       "      <td>10600.54830</td>\n",
       "    </tr>\n",
       "    <tr>\n",
       "      <td>1334</td>\n",
       "      <td>18.0</td>\n",
       "      <td>female</td>\n",
       "      <td>31.920</td>\n",
       "      <td>0</td>\n",
       "      <td>no</td>\n",
       "      <td>northeast</td>\n",
       "      <td>2205.98080</td>\n",
       "    </tr>\n",
       "    <tr>\n",
       "      <td>1335</td>\n",
       "      <td>18.0</td>\n",
       "      <td>female</td>\n",
       "      <td>36.850</td>\n",
       "      <td>0</td>\n",
       "      <td>no</td>\n",
       "      <td>southeast</td>\n",
       "      <td>1629.83350</td>\n",
       "    </tr>\n",
       "    <tr>\n",
       "      <td>1336</td>\n",
       "      <td>21.0</td>\n",
       "      <td>female</td>\n",
       "      <td>25.800</td>\n",
       "      <td>0</td>\n",
       "      <td>no</td>\n",
       "      <td>southwest</td>\n",
       "      <td>2007.94500</td>\n",
       "    </tr>\n",
       "    <tr>\n",
       "      <td>1337</td>\n",
       "      <td>61.0</td>\n",
       "      <td>female</td>\n",
       "      <td>29.070</td>\n",
       "      <td>0</td>\n",
       "      <td>yes</td>\n",
       "      <td>northwest</td>\n",
       "      <td>29141.36030</td>\n",
       "    </tr>\n",
       "  </tbody>\n",
       "</table>\n",
       "<p>1338 rows × 7 columns</p>\n",
       "</div>"
      ],
      "text/plain": [
       "       age  gender     bmi  children smoker     region      Premium\n",
       "0     19.0  female  27.900         0    yes  southwest  16884.92400\n",
       "1     18.0    male  33.770         1     no  southeast   1725.55230\n",
       "2     28.0    male  33.000         3     no  southeast   4449.46200\n",
       "3     33.0    male  22.705         0     no  northwest  21984.47061\n",
       "4     32.0    male  28.880         0     no  northwest   3866.85520\n",
       "...    ...     ...     ...       ...    ...        ...          ...\n",
       "1333  50.0    male  30.970         3     no  northwest  10600.54830\n",
       "1334  18.0  female  31.920         0     no  northeast   2205.98080\n",
       "1335  18.0  female  36.850         0     no  southeast   1629.83350\n",
       "1336  21.0  female  25.800         0     no  southwest   2007.94500\n",
       "1337  61.0  female  29.070         0    yes  northwest  29141.36030\n",
       "\n",
       "[1338 rows x 7 columns]"
      ]
     },
     "execution_count": 9,
     "metadata": {},
     "output_type": "execute_result"
    }
   ],
   "source": [
    "insurance_data"
   ]
  },
  {
   "cell_type": "code",
   "execution_count": 10,
   "metadata": {},
   "outputs": [
    {
     "data": {
      "text/plain": [
       "dtype('float64')"
      ]
     },
     "execution_count": 10,
     "metadata": {},
     "output_type": "execute_result"
    }
   ],
   "source": [
    "insurance_data['Premium'].dtype"
   ]
  },
  {
   "cell_type": "code",
   "execution_count": 11,
   "metadata": {},
   "outputs": [],
   "source": [
    "def check_outlier(insurance_data_param):\n",
    "    outliers = {}\n",
    "    col_list = insurance_data_param.columns.tolist()\n",
    "    for col_name in col_list:\n",
    "        if insurance_data_param[col_name].dtype != 'O': # Rejecting Object datatype\n",
    "            Q1 = np.percentile(insurance_data_param[col_name],25)\n",
    "            Q3 = np.percentile(insurance_data_param[col_name],75)\n",
    "            IQR = Q3 - Q1\n",
    "            lower_bound = Q1 - (1.5 * IQR)\n",
    "            upper_bound = Q3 + (1.5 * IQR)\n",
    "            outliers[col_name] = [lower_bound, upper_bound]\n",
    "    return outliers"
   ]
  },
  {
   "cell_type": "code",
   "execution_count": 12,
   "metadata": {},
   "outputs": [
    {
     "data": {
      "text/plain": [
       "{'age': [-9.0, 87.0],\n",
       " 'bmi': [13.803125000000003, 47.168124999999996],\n",
       " 'children': [-3.0, 5.0],\n",
       " 'Premium': [-12997.197986250001, 34333.227843750006]}"
      ]
     },
     "execution_count": 12,
     "metadata": {},
     "output_type": "execute_result"
    }
   ],
   "source": [
    "# This will set the lower and upper bound of columns, \n",
    "# Data points going beyond this bounds are outliers and we can replace that value with loower and upper bound \n",
    "check_outlier(insurance_data)  "
   ]
  },
  {
   "cell_type": "code",
   "execution_count": 13,
   "metadata": {},
   "outputs": [
    {
     "data": {
      "text/html": [
       "<div>\n",
       "<style scoped>\n",
       "    .dataframe tbody tr th:only-of-type {\n",
       "        vertical-align: middle;\n",
       "    }\n",
       "\n",
       "    .dataframe tbody tr th {\n",
       "        vertical-align: top;\n",
       "    }\n",
       "\n",
       "    .dataframe thead th {\n",
       "        text-align: right;\n",
       "    }\n",
       "</style>\n",
       "<table border=\"1\" class=\"dataframe\">\n",
       "  <thead>\n",
       "    <tr style=\"text-align: right;\">\n",
       "      <th></th>\n",
       "      <th>age</th>\n",
       "      <th>bmi</th>\n",
       "      <th>children</th>\n",
       "      <th>Premium</th>\n",
       "    </tr>\n",
       "  </thead>\n",
       "  <tbody>\n",
       "    <tr>\n",
       "      <td>age</td>\n",
       "      <td>1.000000</td>\n",
       "      <td>0.108295</td>\n",
       "      <td>0.045115</td>\n",
       "      <td>0.301975</td>\n",
       "    </tr>\n",
       "    <tr>\n",
       "      <td>bmi</td>\n",
       "      <td>0.108295</td>\n",
       "      <td>1.000000</td>\n",
       "      <td>0.010533</td>\n",
       "      <td>0.196604</td>\n",
       "    </tr>\n",
       "    <tr>\n",
       "      <td>children</td>\n",
       "      <td>0.045115</td>\n",
       "      <td>0.010533</td>\n",
       "      <td>1.000000</td>\n",
       "      <td>0.066826</td>\n",
       "    </tr>\n",
       "    <tr>\n",
       "      <td>Premium</td>\n",
       "      <td>0.301975</td>\n",
       "      <td>0.196604</td>\n",
       "      <td>0.066826</td>\n",
       "      <td>1.000000</td>\n",
       "    </tr>\n",
       "  </tbody>\n",
       "</table>\n",
       "</div>"
      ],
      "text/plain": [
       "               age       bmi  children   Premium\n",
       "age       1.000000  0.108295  0.045115  0.301975\n",
       "bmi       0.108295  1.000000  0.010533  0.196604\n",
       "children  0.045115  0.010533  1.000000  0.066826\n",
       "Premium   0.301975  0.196604  0.066826  1.000000"
      ]
     },
     "execution_count": 13,
     "metadata": {},
     "output_type": "execute_result"
    }
   ],
   "source": [
    "insurance_data.corr() # This will show the correlation between all numeric columns - pearson corelation"
   ]
  },
  {
   "cell_type": "code",
   "execution_count": 23,
   "metadata": {},
   "outputs": [
    {
     "data": {
      "text/plain": [
       "dtype('int64')"
      ]
     },
     "execution_count": 23,
     "metadata": {},
     "output_type": "execute_result"
    }
   ],
   "source": [
    "insurance_data['children'].dtype"
   ]
  },
  {
   "cell_type": "code",
   "execution_count": 26,
   "metadata": {},
   "outputs": [],
   "source": [
    "insurance_data['children'] = insurance_data['children'].astype('O') # COnverting children column to Object datatype"
   ]
  },
  {
   "cell_type": "code",
   "execution_count": 27,
   "metadata": {},
   "outputs": [
    {
     "data": {
      "text/plain": [
       "dtype('O')"
      ]
     },
     "execution_count": 27,
     "metadata": {},
     "output_type": "execute_result"
    }
   ],
   "source": [
    "insurance_data['children'].dtype"
   ]
  },
  {
   "cell_type": "code",
   "execution_count": 49,
   "metadata": {},
   "outputs": [],
   "source": [
    "insurance_data = pd.get_dummies(insurance_data)"
   ]
  },
  {
   "cell_type": "code",
   "execution_count": 50,
   "metadata": {},
   "outputs": [],
   "source": [
    "feature = insurance_data.drop(['Premium'],axis=1)\n",
    "target = insurance_data['Premium']"
   ]
  },
  {
   "cell_type": "code",
   "execution_count": 51,
   "metadata": {},
   "outputs": [],
   "source": [
    "feature_train, feature_test, target_train, target_test = train_test_split(feature,target,test_size=0.3,random_state=42)"
   ]
  },
  {
   "cell_type": "code",
   "execution_count": 52,
   "metadata": {},
   "outputs": [
    {
     "data": {
      "text/plain": [
       "(       age     bmi  gender_female  gender_male  children_0  children_1  \\\n",
       " 332   61.0  31.160              1            0           1           0   \n",
       " 355   46.0  27.600              0            1           1           0   \n",
       " 138   54.0  31.900              1            0           0           0   \n",
       " 381   55.0  30.685              0            1           1           0   \n",
       " 292   25.0  45.540              0            1           0           0   \n",
       " ...    ...     ...            ...          ...         ...         ...   \n",
       " 1095  18.0  31.350              1            0           0           0   \n",
       " 1130  39.0  23.870              1            0           0           0   \n",
       " 1294  58.0  25.175              0            1           1           0   \n",
       " 860   37.0  47.600              1            0           0           0   \n",
       " 1126  55.0  29.900              0            1           1           0   \n",
       " \n",
       "       children_2  children_3  children_4  children_5  smoker_no  \\\n",
       " 332            0           0           0           0          0   \n",
       " 355            0           0           0           0          0   \n",
       " 138            0           1           0           0          0   \n",
       " 381            0           0           0           0          0   \n",
       " 292            1           0           0           0          0   \n",
       " ...          ...         ...         ...         ...        ...   \n",
       " 1095           0           0           1           0          1   \n",
       " 1130           0           0           0           1          1   \n",
       " 1294           0           0           0           0          1   \n",
       " 860            1           0           0           0          0   \n",
       " 1126           0           0           0           0          1   \n",
       " \n",
       "       smoker_occasionally  smoker_yes  region_northeast  region_northwest  \\\n",
       " 332                     1           0                 0                 1   \n",
       " 355                     1           0                 0                 0   \n",
       " 138                     1           0                 0                 0   \n",
       " 381                     1           0                 1                 0   \n",
       " 292                     1           0                 0                 0   \n",
       " ...                   ...         ...               ...               ...   \n",
       " 1095                    0           0                 1                 0   \n",
       " 1130                    0           0                 0                 0   \n",
       " 1294                    0           0                 1                 0   \n",
       " 860                     0           1                 0                 0   \n",
       " 1126                    0           0                 0                 0   \n",
       " \n",
       "       region_southeast  region_southwest  \n",
       " 332                  0                 0  \n",
       " 355                  0                 1  \n",
       " 138                  1                 0  \n",
       " 381                  0                 0  \n",
       " 292                  1                 0  \n",
       " ...                ...               ...  \n",
       " 1095                 0                 0  \n",
       " 1130                 1                 0  \n",
       " 1294                 0                 0  \n",
       " 860                  0                 1  \n",
       " 1126                 0                 1  \n",
       " \n",
       " [936 rows x 17 columns],\n",
       "        age     bmi  gender_female  gender_male  children_0  children_1  \\\n",
       " 764   45.0  25.175              1            0           0           0   \n",
       " 887   36.0  30.020              1            0           1           0   \n",
       " 890   64.0  26.885              1            0           1           0   \n",
       " 1293  46.0  25.745              0            1           0           0   \n",
       " 259   19.0  31.920              0            1           1           0   \n",
       " ...    ...     ...            ...          ...         ...         ...   \n",
       " 701   50.0  44.745              1            0           1           0   \n",
       " 672   36.0  29.700              0            1           1           0   \n",
       " 1163  18.0  28.215              1            0           1           0   \n",
       " 1103  58.0  36.080              0            1           1           0   \n",
       " 1295  20.0  22.000              0            1           0           1   \n",
       " \n",
       "       children_2  children_3  children_4  children_5  smoker_no  \\\n",
       " 764            1           0           0           0          1   \n",
       " 887            0           0           0           0          1   \n",
       " 890            0           0           0           0          0   \n",
       " 1293           0           1           0           0          1   \n",
       " 259            0           0           0           0          0   \n",
       " ...          ...         ...         ...         ...        ...   \n",
       " 701            0           0           0           0          1   \n",
       " 672            0           0           0           0          1   \n",
       " 1163           0           0           0           0          1   \n",
       " 1103           0           0           0           0          1   \n",
       " 1295           0           0           0           0          1   \n",
       " \n",
       "       smoker_occasionally  smoker_yes  region_northeast  region_northwest  \\\n",
       " 764                     0           0                 1                 0   \n",
       " 887                     0           0                 0                 1   \n",
       " 890                     0           1                 0                 1   \n",
       " 1293                    0           0                 0                 1   \n",
       " 259                     1           0                 0                 1   \n",
       " ...                   ...         ...               ...               ...   \n",
       " 701                     0           0                 1                 0   \n",
       " 672                     0           0                 0                 0   \n",
       " 1163                    0           0                 1                 0   \n",
       " 1103                    0           0                 0                 0   \n",
       " 1295                    0           0                 0                 0   \n",
       " \n",
       "       region_southeast  region_southwest  \n",
       " 764                  0                 0  \n",
       " 887                  0                 0  \n",
       " 890                  0                 0  \n",
       " 1293                 0                 0  \n",
       " 259                  0                 0  \n",
       " ...                ...               ...  \n",
       " 701                  0                 0  \n",
       " 672                  1                 0  \n",
       " 1163                 0                 0  \n",
       " 1103                 1                 0  \n",
       " 1295                 0                 1  \n",
       " \n",
       " [402 rows x 17 columns],\n",
       " 332     13429.03540\n",
       " 355     24603.04837\n",
       " 138     27322.73386\n",
       " 381     42303.69215\n",
       " 292     42112.23560\n",
       "            ...     \n",
       " 1095     4561.18850\n",
       " 1130     8582.30230\n",
       " 1294    11931.12525\n",
       " 860     46113.51100\n",
       " 1126    10214.63600\n",
       " Name: Premium, Length: 936, dtype: float64,\n",
       " 764      9095.06825\n",
       " 887      5272.17580\n",
       " 890     29330.98315\n",
       " 1293     9301.89355\n",
       " 259     33750.29180\n",
       "            ...     \n",
       " 701      9541.69555\n",
       " 672      4399.73100\n",
       " 1163     2200.83085\n",
       " 1103    11363.28320\n",
       " 1295     1964.78000\n",
       " Name: Premium, Length: 402, dtype: float64)"
      ]
     },
     "execution_count": 52,
     "metadata": {},
     "output_type": "execute_result"
    }
   ],
   "source": [
    "feature_train, feature_test, target_train, target_test"
   ]
  },
  {
   "cell_type": "code",
   "execution_count": 57,
   "metadata": {},
   "outputs": [],
   "source": [
    "lm_model = sm.OLS(target_train, feature_train).fit()"
   ]
  },
  {
   "cell_type": "code",
   "execution_count": 58,
   "metadata": {},
   "outputs": [
    {
     "data": {
      "text/plain": [
       "<statsmodels.regression.linear_model.RegressionResultsWrapper at 0x2117756a988>"
      ]
     },
     "execution_count": 58,
     "metadata": {},
     "output_type": "execute_result"
    }
   ],
   "source": [
    "lm_model"
   ]
  },
  {
   "cell_type": "code",
   "execution_count": 60,
   "metadata": {},
   "outputs": [],
   "source": [
    "prediction = lm_model.predict(feature_test)"
   ]
  },
  {
   "cell_type": "code",
   "execution_count": 62,
   "metadata": {},
   "outputs": [
    {
     "data": {
      "text/plain": [
       "764     10155.071210\n",
       "887      6148.540544\n",
       "890     36061.564863\n",
       "1293     8642.194651\n",
       "259      7963.972894\n",
       "dtype: float64"
      ]
     },
     "execution_count": 62,
     "metadata": {},
     "output_type": "execute_result"
    }
   ],
   "source": [
    "prediction.head()"
   ]
  },
  {
   "cell_type": "code",
   "execution_count": 63,
   "metadata": {},
   "outputs": [],
   "source": [
    "residual = prediction - target_test"
   ]
  },
  {
   "cell_type": "code",
   "execution_count": 65,
   "metadata": {},
   "outputs": [
    {
     "data": {
      "text/plain": [
       "764      1060.002960\n",
       "887       876.364744\n",
       "890      6730.581713\n",
       "1293     -659.698899\n",
       "259    -25786.318906\n",
       "dtype: float64"
      ]
     },
     "execution_count": 65,
     "metadata": {},
     "output_type": "execute_result"
    }
   ],
   "source": [
    "residual.head()"
   ]
  },
  {
   "cell_type": "code",
   "execution_count": 66,
   "metadata": {},
   "outputs": [],
   "source": [
    "from sklearn.metrics import mean_squared_error"
   ]
  },
  {
   "cell_type": "code",
   "execution_count": 67,
   "metadata": {},
   "outputs": [],
   "source": [
    "mse = mean_squared_error(prediction, target_test)"
   ]
  },
  {
   "cell_type": "code",
   "execution_count": 68,
   "metadata": {},
   "outputs": [
    {
     "data": {
      "text/plain": [
       "68947487.90457097"
      ]
     },
     "execution_count": 68,
     "metadata": {},
     "output_type": "execute_result"
    }
   ],
   "source": [
    "mse"
   ]
  },
  {
   "cell_type": "code",
   "execution_count": 69,
   "metadata": {},
   "outputs": [],
   "source": [
    "import matplotlib.pyplot as plt\n",
    "import seaborn as sns"
   ]
  },
  {
   "cell_type": "code",
   "execution_count": 70,
   "metadata": {},
   "outputs": [
    {
     "data": {
      "text/plain": [
       "<module 'seaborn' from 'C:\\\\Users\\\\tarun.dabhi\\\\AppData\\\\Local\\\\Continuum\\\\anaconda3\\\\lib\\\\site-packages\\\\seaborn\\\\__init__.py'>"
      ]
     },
     "execution_count": 70,
     "metadata": {},
     "output_type": "execute_result"
    }
   ],
   "source": [
    "sns"
   ]
  },
  {
   "cell_type": "code",
   "execution_count": null,
   "metadata": {},
   "outputs": [],
   "source": []
  }
 ],
 "metadata": {
  "kernelspec": {
   "display_name": "Python 3",
   "language": "python",
   "name": "python3"
  },
  "language_info": {
   "codemirror_mode": {
    "name": "ipython",
    "version": 3
   },
   "file_extension": ".py",
   "mimetype": "text/x-python",
   "name": "python",
   "nbconvert_exporter": "python",
   "pygments_lexer": "ipython3",
   "version": "3.7.4"
  }
 },
 "nbformat": 4,
 "nbformat_minor": 2
}
